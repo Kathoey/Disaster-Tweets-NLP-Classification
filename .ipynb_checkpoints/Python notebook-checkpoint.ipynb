{
 "cells": [
  {
   "cell_type": "code",
   "execution_count": 18,
   "id": "0ea3926f",
   "metadata": {},
   "outputs": [
    {
     "name": "stdout",
     "output_type": "stream",
     "text": [
      "Requirement already satisfied: pandas in c:\\users\\nicho\\anaconda3\\lib\\site-packages (1.2.4)\n",
      "Requirement already satisfied: python-dateutil>=2.7.3 in c:\\users\\nicho\\anaconda3\\lib\\site-packages (from pandas) (2.8.1)\n",
      "Requirement already satisfied: pytz>=2017.3 in c:\\users\\nicho\\anaconda3\\lib\\site-packages (from pandas) (2021.1)\n",
      "Requirement already satisfied: numpy>=1.16.5 in c:\\users\\nicho\\anaconda3\\lib\\site-packages (from pandas) (1.20.1)\n",
      "Requirement already satisfied: six>=1.5 in c:\\users\\nicho\\anaconda3\\lib\\site-packages (from python-dateutil>=2.7.3->pandas) (1.15.0)\n",
      "Requirement already satisfied: numpy in c:\\users\\nicho\\anaconda3\\lib\\site-packages (1.20.1)\n",
      "Requirement already satisfied: sklearn in c:\\users\\nicho\\anaconda3\\lib\\site-packages (0.0)\n",
      "Requirement already satisfied: scikit-learn in c:\\users\\nicho\\anaconda3\\lib\\site-packages (from sklearn) (0.24.1)\n",
      "Requirement already satisfied: joblib>=0.11 in c:\\users\\nicho\\anaconda3\\lib\\site-packages (from scikit-learn->sklearn) (1.0.1)\n",
      "Requirement already satisfied: threadpoolctl>=2.0.0 in c:\\users\\nicho\\anaconda3\\lib\\site-packages (from scikit-learn->sklearn) (2.1.0)\n",
      "Requirement already satisfied: numpy>=1.13.3 in c:\\users\\nicho\\anaconda3\\lib\\site-packages (from scikit-learn->sklearn) (1.20.1)\n",
      "Requirement already satisfied: scipy>=0.19.1 in c:\\users\\nicho\\anaconda3\\lib\\site-packages (from scikit-learn->sklearn) (1.6.2)\n",
      "Requirement already satisfied: seaborn in c:\\users\\nicho\\anaconda3\\lib\\site-packages (0.11.1)\n",
      "Requirement already satisfied: numpy>=1.15 in c:\\users\\nicho\\anaconda3\\lib\\site-packages (from seaborn) (1.20.1)\n",
      "Requirement already satisfied: scipy>=1.0 in c:\\users\\nicho\\anaconda3\\lib\\site-packages (from seaborn) (1.6.2)\n",
      "Requirement already satisfied: matplotlib>=2.2 in c:\\users\\nicho\\anaconda3\\lib\\site-packages (from seaborn) (3.3.4)\n",
      "Requirement already satisfied: pandas>=0.23 in c:\\users\\nicho\\anaconda3\\lib\\site-packages (from seaborn) (1.2.4)\n",
      "Requirement already satisfied: pyparsing!=2.0.4,!=2.1.2,!=2.1.6,>=2.0.3 in c:\\users\\nicho\\anaconda3\\lib\\site-packages (from matplotlib>=2.2->seaborn) (2.4.7)\n",
      "Requirement already satisfied: cycler>=0.10 in c:\\users\\nicho\\anaconda3\\lib\\site-packages (from matplotlib>=2.2->seaborn) (0.10.0)\n",
      "Requirement already satisfied: pillow>=6.2.0 in c:\\users\\nicho\\anaconda3\\lib\\site-packages (from matplotlib>=2.2->seaborn) (8.2.0)\n",
      "Requirement already satisfied: kiwisolver>=1.0.1 in c:\\users\\nicho\\anaconda3\\lib\\site-packages (from matplotlib>=2.2->seaborn) (1.3.1)\n",
      "Requirement already satisfied: python-dateutil>=2.1 in c:\\users\\nicho\\anaconda3\\lib\\site-packages (from matplotlib>=2.2->seaborn) (2.8.1)\n",
      "Requirement already satisfied: six in c:\\users\\nicho\\anaconda3\\lib\\site-packages (from cycler>=0.10->matplotlib>=2.2->seaborn) (1.15.0)\n",
      "Requirement already satisfied: pytz>=2017.3 in c:\\users\\nicho\\anaconda3\\lib\\site-packages (from pandas>=0.23->seaborn) (2021.1)\n",
      "Requirement already satisfied: matplotlib in c:\\users\\nicho\\anaconda3\\lib\\site-packages (3.3.4)\n",
      "Requirement already satisfied: python-dateutil>=2.1 in c:\\users\\nicho\\anaconda3\\lib\\site-packages (from matplotlib) (2.8.1)\n",
      "Requirement already satisfied: pyparsing!=2.0.4,!=2.1.2,!=2.1.6,>=2.0.3 in c:\\users\\nicho\\anaconda3\\lib\\site-packages (from matplotlib) (2.4.7)\n",
      "Requirement already satisfied: numpy>=1.15 in c:\\users\\nicho\\anaconda3\\lib\\site-packages (from matplotlib) (1.20.1)\n",
      "Requirement already satisfied: kiwisolver>=1.0.1 in c:\\users\\nicho\\anaconda3\\lib\\site-packages (from matplotlib) (1.3.1)\n",
      "Requirement already satisfied: pillow>=6.2.0 in c:\\users\\nicho\\anaconda3\\lib\\site-packages (from matplotlib) (8.2.0)\n",
      "Requirement already satisfied: cycler>=0.10 in c:\\users\\nicho\\anaconda3\\lib\\site-packages (from matplotlib) (0.10.0)\n",
      "Requirement already satisfied: six in c:\\users\\nicho\\anaconda3\\lib\\site-packages (from cycler>=0.10->matplotlib) (1.15.0)\n"
     ]
    }
   ],
   "source": [
    "import sys\n",
    "#!{sys.executable} -m pip install pandas\n",
    "#!{sys.executable} -m pip install numpy\n",
    "#!{sys.executable} -m pip install sklearn\n",
    "#!{sys.executable} -m pip install seaborn\n",
    "#!{sys.executable} -m pip install matplotlib"
   ]
  },
  {
   "cell_type": "code",
   "execution_count": 19,
   "id": "406af77f",
   "metadata": {},
   "outputs": [],
   "source": [
    "import pandas as pd\n",
    "import numpy as np\n",
    "import sklearn\n",
    "import re\n",
    "import string\n",
    "import seaborn as sn\n",
    "import matplotlib.pyplot as plt"
   ]
  },
  {
   "cell_type": "code",
   "execution_count": 20,
   "id": "88bb17fd",
   "metadata": {},
   "outputs": [],
   "source": [
    "from sklearn.feature_extraction.text import TfidfVectorizer\n",
    "from sklearn.linear_model import LogisticRegression\n",
    "from sklearn.metrics import confusion_matrix\n",
    "from sklearn.model_selection import train_test_split"
   ]
  },
  {
   "cell_type": "code",
   "execution_count": 21,
   "id": "060c3143",
   "metadata": {
    "scrolled": true
   },
   "outputs": [
    {
     "name": "stdout",
     "output_type": "stream",
     "text": [
      "                                                text  target\n",
      "0  Our Deeds are the Reason of this #earthquake M...       1\n",
      "1             Forest fire near La Ronge Sask. Canada       1\n",
      "2  All residents asked to 'shelter in place' are ...       1\n",
      "3  13,000 people receive #wildfires evacuation or...       1\n",
      "4  Just got sent this photo from Ruby #Alaska as ...       1\n"
     ]
    }
   ],
   "source": [
    "data = pd.read_csv('./data/train.csv')\n",
    "data = data.drop(columns=['id', 'keyword', 'location'])\n",
    "\n",
    "print(data.head(5))"
   ]
  },
  {
   "cell_type": "code",
   "execution_count": 22,
   "id": "ac9330e0",
   "metadata": {},
   "outputs": [],
   "source": [
    "def remove_URL(text):\n",
    "    url = re.compile(r'https?://\\S+|www\\.\\S+')\n",
    "    return url.sub(r'',text)\n",
    "\n",
    "def remove_html(text):\n",
    "    html = re.compile(r'<.*?>')\n",
    "    return html.sub(r'',text)\n",
    "\n",
    "def remove_emoji(text):\n",
    "    emoji_pattern = re.compile(\"[\"\n",
    "                           u\"\\U0001F600-\\U0001F64F\"  # emoticons\n",
    "                           u\"\\U0001F300-\\U0001F5FF\"  # symbols & pictographs\n",
    "                           u\"\\U0001F680-\\U0001F6FF\"  # transport & map symbols\n",
    "                           u\"\\U0001F1E0-\\U0001F1FF\"  # flags (iOS)\n",
    "                           u\"\\U00002702-\\U000027B0\"\n",
    "                           u\"\\U000024C2-\\U0001F251\"\n",
    "                           \"]+\", flags=re.UNICODE)\n",
    "    return emoji_pattern.sub(r'', text)\n",
    "\n",
    "def remove_at(text):\n",
    "    at = re.compile(r'\\@(\\w+)')\n",
    "    return at.sub(r'', text)\n",
    "\n",
    "def remove_punct(text):\n",
    "    table = str.maketrans('','',string.punctuation)\n",
    "    return text.translate(table)"
   ]
  },
  {
   "cell_type": "code",
   "execution_count": 23,
   "id": "8de9250e",
   "metadata": {},
   "outputs": [],
   "source": [
    "def cleanTweets(data):\n",
    "    text = data['text']\n",
    "    text = text.apply(lambda x: remove_URL(x)) \\\n",
    "               .apply(lambda x: remove_html(x)) \\\n",
    "               .apply(lambda x: remove_emoji(x)) \\\n",
    "               .apply(lambda x: remove_at(x)) \\\n",
    "               .apply(lambda x: remove_punct(x))\n",
    "    return text.to_numpy()\n",
    "\n",
    "def obtainTargets(data):\n",
    "    return data['target'].to_numpy()"
   ]
  },
  {
   "cell_type": "code",
   "execution_count": 24,
   "id": "c4e44279",
   "metadata": {},
   "outputs": [
    {
     "name": "stdout",
     "output_type": "stream",
     "text": [
      "['Our Deeds are the Reason of this earthquake May ALLAH Forgive us all'\n",
      " 'Forest fire near La Ronge Sask Canada'\n",
      " 'All residents asked to shelter in place are being notified by officers No other evacuation or shelter in place orders are expected'\n",
      " ... 'M194 0104 UTC5km S of Volcano Hawaii '\n",
      " 'Police investigating after an ebike collided with a car in Little Portugal Ebike rider suffered serious nonlife threatening injuries'\n",
      " 'The Latest More Homes Razed by Northern California Wildfire  ABC News ']\n",
      "[1 1 1 ... 1 1 1]\n"
     ]
    }
   ],
   "source": [
    "X_data = cleanTweets(data)\n",
    "y_data = obtainTargets(data)\n",
    "\n",
    "print(X_data)\n",
    "print(y_data)"
   ]
  },
  {
   "cell_type": "code",
   "execution_count": 25,
   "id": "a233d73b",
   "metadata": {},
   "outputs": [],
   "source": [
    "X_train, X_test, y_train, y_test = train_test_split(X_data, y_data, test_size=0.2)"
   ]
  },
  {
   "cell_type": "code",
   "execution_count": 26,
   "id": "c42dccb9",
   "metadata": {},
   "outputs": [],
   "source": [
    "vectorizer = TfidfVectorizer()\n",
    "X = vectorizer.fit_transform(X_train)\n",
    "y = y_train"
   ]
  },
  {
   "cell_type": "code",
   "execution_count": 29,
   "id": "4513b7be",
   "metadata": {},
   "outputs": [
    {
     "name": "stdout",
     "output_type": "stream",
     "text": [
      "(6090, 13708)\n",
      "  (0, 7339)\t0.6554917468112983\n",
      "  (0, 1725)\t0.7552023370344353\n",
      "  (1, 1460)\t0.246285044029508\n",
      "  (1, 13330)\t0.13209392921404697\n",
      "  (1, 13578)\t0.1251067830471753\n",
      "  (1, 4826)\t0.2330138665293555\n",
      "  (1, 12136)\t0.2330138665293555\n",
      "  (1, 7310)\t0.27130070727582606\n",
      "  (1, 12058)\t0.07781181610819986\n",
      "  (1, 8625)\t0.11826019841252283\n",
      "  (1, 5790)\t0.22028055253601916\n",
      "  (1, 13266)\t0.275551493889037\n",
      "  (1, 6802)\t0.23743858106141316\n",
      "  (1, 13587)\t0.3149001328637454\n",
      "  (1, 5806)\t0.6511656407633463\n",
      "  (2, 12572)\t0.3994741717513496\n",
      "  (2, 12226)\t0.5708241927636387\n",
      "  (2, 5837)\t0.369735014141077\n",
      "  (2, 5289)\t0.4689881115856335\n",
      "  (2, 6159)\t0.39739941817867874\n",
      "  (3, 8438)\t0.239550811691348\n",
      "  (3, 10191)\t0.30734143186446505\n",
      "  (3, 6219)\t0.1298664808668673\n",
      "  (3, 5341)\t0.4761766454406989\n",
      "  (3, 13127)\t0.239550811691348\n",
      "  :\t:\n",
      "  (6088, 13465)\t0.2276759520420258\n",
      "  (6088, 5663)\t0.22203978232435567\n",
      "  (6088, 6867)\t0.1706659170809825\n",
      "  (6088, 3888)\t0.18022137675426156\n",
      "  (6088, 2169)\t0.27663593632093103\n",
      "  (6088, 6504)\t0.14600814000998788\n",
      "  (6088, 9011)\t0.15341165148489325\n",
      "  (6088, 12098)\t0.15700944485779306\n",
      "  (6088, 11866)\t0.1848775728036126\n",
      "  (6088, 7203)\t0.2187573469736812\n",
      "  (6088, 13242)\t0.1594765460214519\n",
      "  (6088, 12726)\t0.1377846721563159\n",
      "  (6088, 6495)\t0.24388592894445918\n",
      "  (6088, 12054)\t0.1196584578718714\n",
      "  (6089, 5008)\t0.467128367612554\n",
      "  (6089, 5006)\t0.21850505721210933\n",
      "  (6089, 674)\t0.2216110825747776\n",
      "  (6089, 13666)\t0.1799354384581331\n",
      "  (6089, 12374)\t0.3961421913803882\n",
      "  (6089, 13672)\t0.33136806587355894\n",
      "  (6089, 3545)\t0.3666165054905215\n",
      "  (6089, 8060)\t0.4057242993224783\n",
      "  (6089, 6495)\t0.21921990139991385\n",
      "  (6089, 8544)\t0.15029327981636756\n",
      "  (6089, 12058)\t0.12712064762379036\n"
     ]
    }
   ],
   "source": [
    "#print(vectorizer.get_feature_names_out())\n",
    "print(X.shape)\n",
    "print(X)"
   ]
  },
  {
   "cell_type": "code",
   "execution_count": null,
   "id": "9fb1a1e3",
   "metadata": {},
   "outputs": [],
   "source": [
    "logistic_regression_model = LogisticRegression(verbose=3, solver=\"saga\").fit(X, y)"
   ]
  },
  {
   "cell_type": "code",
   "execution_count": null,
   "id": "eeb3ff2d",
   "metadata": {},
   "outputs": [],
   "source": [
    "print(logistic_regression_model.score(vectorizer.transform(X_test), y_test))"
   ]
  },
  {
   "cell_type": "code",
   "execution_count": null,
   "id": "c09cf77c",
   "metadata": {},
   "outputs": [],
   "source": [
    "from sklearn.metrics import confusion_matrix\n",
    "tn, fp, fn, tp = confusion_matrix(logistic_regression_model.predict(vectorizer.transform(X_test)), y_test).ravel()\n",
    "cm = np.array([[tn, fp], [fn, tp]])\n",
    "print(cm)"
   ]
  },
  {
   "cell_type": "code",
   "execution_count": null,
   "id": "81263e39",
   "metadata": {},
   "outputs": [],
   "source": [
    "df_cm = pd.DataFrame(cm, ['Not a disaster', 'Disaster'], ['Not a disaster', 'Disaster'])\n",
    "sn.set(font_scale=1.4) # for label size\n",
    "sn.heatmap(df_cm, annot=True, square=\"True\", cmap=\"Blues\", fmt=\"d\")\n",
    "plt.title(\"Logistic regression confusion matrix\\n\", fontsize=18)\n",
    "plt.show()"
   ]
  },
  {
   "cell_type": "code",
   "execution_count": null,
   "id": "6857a130",
   "metadata": {},
   "outputs": [],
   "source": []
  },
  {
   "cell_type": "code",
   "execution_count": null,
   "id": "7bddf462",
   "metadata": {},
   "outputs": [],
   "source": []
  },
  {
   "cell_type": "code",
   "execution_count": null,
   "id": "b22ef13e",
   "metadata": {},
   "outputs": [],
   "source": []
  }
 ],
 "metadata": {
  "kernelspec": {
   "display_name": "Python 3",
   "language": "python",
   "name": "python3"
  },
  "language_info": {
   "codemirror_mode": {
    "name": "ipython",
    "version": 3
   },
   "file_extension": ".py",
   "mimetype": "text/x-python",
   "name": "python",
   "nbconvert_exporter": "python",
   "pygments_lexer": "ipython3",
   "version": "3.8.8"
  }
 },
 "nbformat": 4,
 "nbformat_minor": 5
}
